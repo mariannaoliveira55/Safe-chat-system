{
 "cells": [
  {
   "cell_type": "code",
   "execution_count": 1,
   "id": "9ff513fd-b0b7-4084-a2c4-642b322fbdcb",
   "metadata": {},
   "outputs": [
    {
     "name": "stdin",
     "output_type": "stream",
     "text": [
      "Digite seu nome para entrar no chat do grupo:  Lourenco\n"
     ]
    },
    {
     "name": "stderr",
     "output_type": "stream",
     "text": [
      "C:\\Users\\maria\\OneDrive\\Desktop\\Faculdade\\Criptografia\\Grupo 10 D6-Versão Final do Projeto\\Grupo 10 D6-Versão Final do Projeto\\Código D6 Grupo 10\\AutoridadeCertificadora2.py:142: CryptographyDeprecationWarning: Properties that return a naïve datetime object have been deprecated. Please switch to not_valid_before_utc.\n",
      "  return certificado.not_valid_before <= agora <= certificado.not_valid_after\n",
      "C:\\Users\\maria\\OneDrive\\Desktop\\Faculdade\\Criptografia\\Grupo 10 D6-Versão Final do Projeto\\Grupo 10 D6-Versão Final do Projeto\\Código D6 Grupo 10\\AutoridadeCertificadora2.py:142: CryptographyDeprecationWarning: Properties that return a naïve datetime object have been deprecated. Please switch to not_valid_after_utc.\n",
      "  return certificado.not_valid_before <= agora <= certificado.not_valid_after\n"
     ]
    },
    {
     "name": "stdout",
     "output_type": "stream",
     "text": [
      "✅ Conectado ao grupo com sucesso.\n"
     ]
    },
    {
     "name": "stdin",
     "output_type": "stream",
     "text": [
      "Você:  oi\n"
     ]
    },
    {
     "name": "stdout",
     "output_type": "stream",
     "text": [
      "Alice: oi"
     ]
    },
    {
     "name": "stdin",
     "output_type": "stream",
     "text": [
      "Você:  :DD\n",
      "Você:  ainda bem\n"
     ]
    },
    {
     "name": "stdout",
     "output_type": "stream",
     "text": [
      "Alice: que ja funfa"
     ]
    },
    {
     "name": "stdin",
     "output_type": "stream",
     "text": [
      "Você:  juro\n"
     ]
    },
    {
     "name": "stdout",
     "output_type": "stream",
     "text": [
      "Bob: mekie malta"
     ]
    },
    {
     "name": "stdin",
     "output_type": "stream",
     "text": [
      "Você:  GANDA BOB PÁ\n"
     ]
    },
    {
     "name": "stdout",
     "output_type": "stream",
     "text": [
      "Alice: como tamos?"
     ]
    },
    {
     "name": "stdin",
     "output_type": "stream",
     "text": [
      "Você:  tamos bem\n"
     ]
    },
    {
     "name": "stdout",
     "output_type": "stream",
     "text": [
      "Bob: vou bazar ficaramAlice: eu tmb"
     ]
    },
    {
     "name": "stdin",
     "output_type": "stream",
     "text": [
      "Você:  sair\n"
     ]
    },
    {
     "name": "stdout",
     "output_type": "stream",
     "text": [
      "❌ Conexão encerrada pelo servidor.\n"
     ]
    }
   ],
   "source": [
    "%run FunçõesAuxiliares.ipynb \n",
    "\n",
    "nome = input(\"Digite seu nome para entrar no chat do grupo: \")\n",
    "main_cliente(nome)"
   ]
  },
  {
   "cell_type": "code",
   "execution_count": null,
   "id": "a8c8739d-5205-4ff8-8268-651c26e625f9",
   "metadata": {},
   "outputs": [],
   "source": []
  }
 ],
 "metadata": {
  "kernelspec": {
   "display_name": "Python 3 (ipykernel)",
   "language": "python",
   "name": "python3"
  },
  "language_info": {
   "codemirror_mode": {
    "name": "ipython",
    "version": 3
   },
   "file_extension": ".py",
   "mimetype": "text/x-python",
   "name": "python",
   "nbconvert_exporter": "python",
   "pygments_lexer": "ipython3",
   "version": "3.12.7"
  }
 },
 "nbformat": 4,
 "nbformat_minor": 5
}
