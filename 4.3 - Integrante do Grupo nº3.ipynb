{
 "cells": [
  {
   "cell_type": "code",
   "execution_count": 1,
   "id": "9ff513fd-b0b7-4084-a2c4-642b322fbdcb",
   "metadata": {},
   "outputs": [
    {
     "name": "stdin",
     "output_type": "stream",
     "text": [
      "Digite seu nome para entrar no chat do grupo:  Bob\n"
     ]
    },
    {
     "name": "stderr",
     "output_type": "stream",
     "text": [
      "C:\\Users\\maria\\OneDrive\\Desktop\\Faculdade\\Criptografia\\Grupo 10 D6-Versão Final do Projeto\\Grupo 10 D6-Versão Final do Projeto\\Código D6 Grupo 10\\AutoridadeCertificadora2.py:142: CryptographyDeprecationWarning: Properties that return a naïve datetime object have been deprecated. Please switch to not_valid_before_utc.\n",
      "  return certificado.not_valid_before <= agora <= certificado.not_valid_after\n",
      "C:\\Users\\maria\\OneDrive\\Desktop\\Faculdade\\Criptografia\\Grupo 10 D6-Versão Final do Projeto\\Grupo 10 D6-Versão Final do Projeto\\Código D6 Grupo 10\\AutoridadeCertificadora2.py:142: CryptographyDeprecationWarning: Properties that return a naïve datetime object have been deprecated. Please switch to not_valid_after_utc.\n",
      "  return certificado.not_valid_before <= agora <= certificado.not_valid_after\n"
     ]
    },
    {
     "name": "stdout",
     "output_type": "stream",
     "text": [
      "✅ Conectado ao grupo com sucesso.\n"
     ]
    },
    {
     "name": "stdin",
     "output_type": "stream",
     "text": [
      "Você:  mekie malta\n"
     ]
    },
    {
     "name": "stdout",
     "output_type": "stream",
     "text": [
      "Lourenco: GANDA BOB PÁAlice: como tamos?Lourenco: tamos bem"
     ]
    },
    {
     "name": "stdin",
     "output_type": "stream",
     "text": [
      "Você:  vou bazar ficaram\n",
      "Você:  sair\n"
     ]
    },
    {
     "name": "stdout",
     "output_type": "stream",
     "text": [
      "❌ Conexão encerrada pelo servidor.\n"
     ]
    }
   ],
   "source": [
    "%run FunçõesAuxiliares.ipynb \n",
    "\n",
    "nome = input(\"Digite seu nome para entrar no chat do grupo: \")\n",
    "main_cliente(nome)"
   ]
  }
 ],
 "metadata": {
  "kernelspec": {
   "display_name": "Python 3 (ipykernel)",
   "language": "python",
   "name": "python3"
  },
  "language_info": {
   "codemirror_mode": {
    "name": "ipython",
    "version": 3
   },
   "file_extension": ".py",
   "mimetype": "text/x-python",
   "name": "python",
   "nbconvert_exporter": "python",
   "pygments_lexer": "ipython3",
   "version": "3.12.7"
  }
 },
 "nbformat": 4,
 "nbformat_minor": 5
}
